{
 "cells": [
  {
   "cell_type": "markdown",
   "metadata": {},
   "source": [
    "### convert json data to csv"
   ]
  },
  {
   "cell_type": "code",
   "execution_count": 1,
   "metadata": {},
   "outputs": [],
   "source": [
    "import pandas as pd\n",
    "import json \n",
    "from matplotlib import pyplot as plt\n",
    "import seaborn as sns\n",
    "from pandas.io.json import json_normalize\n",
    "f=open('D:\\machine learning\\data-viz-challenge-master\\data.json')\n",
    "data=json.load(f)\n",
    "f.close()\n",
    "df= pd.json_normalize(data['data'])\n",
    "df.to_csv('D:\\machine learning\\data-viz-challenge-master\\data1.csv', sep=',',encoding='utf-8')"
   ]
  },
  {
   "cell_type": "code",
   "execution_count": 2,
   "metadata": {},
   "outputs": [
    {
     "data": {
      "text/html": [
       "<div>\n",
       "<style scoped>\n",
       "    .dataframe tbody tr th:only-of-type {\n",
       "        vertical-align: middle;\n",
       "    }\n",
       "\n",
       "    .dataframe tbody tr th {\n",
       "        vertical-align: top;\n",
       "    }\n",
       "\n",
       "    .dataframe thead th {\n",
       "        text-align: right;\n",
       "    }\n",
       "</style>\n",
       "<table border=\"1\" class=\"dataframe\">\n",
       "  <thead>\n",
       "    <tr style=\"text-align: right;\">\n",
       "      <th></th>\n",
       "      <th>category</th>\n",
       "      <th>event_name</th>\n",
       "      <th>gender</th>\n",
       "      <th>age</th>\n",
       "      <th>marital_status</th>\n",
       "      <th>session_id</th>\n",
       "      <th>device</th>\n",
       "      <th>client_time</th>\n",
       "      <th>location.latitude</th>\n",
       "      <th>location.city</th>\n",
       "      <th>location.state</th>\n",
       "      <th>location.longitude</th>\n",
       "      <th>location.zip_code</th>\n",
       "      <th>amount</th>\n",
       "    </tr>\n",
       "  </thead>\n",
       "  <tbody>\n",
       "    <tr>\n",
       "      <th>0</th>\n",
       "      <td>Sports</td>\n",
       "      <td>View Project</td>\n",
       "      <td>M</td>\n",
       "      <td>18-24</td>\n",
       "      <td>married</td>\n",
       "      <td>69f62d2ae87640f5a2dde2b2e9229fe6</td>\n",
       "      <td>android</td>\n",
       "      <td>1393632004</td>\n",
       "      <td>40.189788</td>\n",
       "      <td>Lyons</td>\n",
       "      <td>CO</td>\n",
       "      <td>-105.355280</td>\n",
       "      <td>80540</td>\n",
       "      <td>NaN</td>\n",
       "    </tr>\n",
       "    <tr>\n",
       "      <th>1</th>\n",
       "      <td>Technology</td>\n",
       "      <td>View Project</td>\n",
       "      <td>M</td>\n",
       "      <td>18-24</td>\n",
       "      <td>single</td>\n",
       "      <td>4459d001feb8438eae5f4ec24abcd992</td>\n",
       "      <td>iOS</td>\n",
       "      <td>1393632022</td>\n",
       "      <td>33.844371</td>\n",
       "      <td>Alpharetta</td>\n",
       "      <td>GA</td>\n",
       "      <td>-84.474050</td>\n",
       "      <td>30009</td>\n",
       "      <td>NaN</td>\n",
       "    </tr>\n",
       "    <tr>\n",
       "      <th>2</th>\n",
       "      <td>Environment</td>\n",
       "      <td>View Project</td>\n",
       "      <td>M</td>\n",
       "      <td>55+</td>\n",
       "      <td>single</td>\n",
       "      <td>0db9ed700a184d48a9d04806696e3642</td>\n",
       "      <td>iOS</td>\n",
       "      <td>1393632032</td>\n",
       "      <td>42.446396</td>\n",
       "      <td>Westford</td>\n",
       "      <td>MA</td>\n",
       "      <td>-71.459405</td>\n",
       "      <td>01886</td>\n",
       "      <td>NaN</td>\n",
       "    </tr>\n",
       "    <tr>\n",
       "      <th>3</th>\n",
       "      <td>Technology</td>\n",
       "      <td>View Project</td>\n",
       "      <td>M</td>\n",
       "      <td>18-24</td>\n",
       "      <td>single</td>\n",
       "      <td>68195e2372bd4022b17220fc21de9138</td>\n",
       "      <td>android</td>\n",
       "      <td>1393632038</td>\n",
       "      <td>44.624413</td>\n",
       "      <td>Saranac</td>\n",
       "      <td>NY</td>\n",
       "      <td>-73.809266</td>\n",
       "      <td>12981</td>\n",
       "      <td>NaN</td>\n",
       "    </tr>\n",
       "    <tr>\n",
       "      <th>4</th>\n",
       "      <td>Sports</td>\n",
       "      <td>View Project</td>\n",
       "      <td>F</td>\n",
       "      <td>25-34</td>\n",
       "      <td>married</td>\n",
       "      <td>9508a8385dc94773baba8aa7d1c2aa75</td>\n",
       "      <td>iOS</td>\n",
       "      <td>1393632051</td>\n",
       "      <td>36.747083</td>\n",
       "      <td>Lampe</td>\n",
       "      <td>MO</td>\n",
       "      <td>-93.458626</td>\n",
       "      <td>65681</td>\n",
       "      <td>NaN</td>\n",
       "    </tr>\n",
       "  </tbody>\n",
       "</table>\n",
       "</div>"
      ],
      "text/plain": [
       "      category    event_name gender    age marital_status  \\\n",
       "0       Sports  View Project      M  18-24        married   \n",
       "1   Technology  View Project      M  18-24         single   \n",
       "2  Environment  View Project      M    55+         single   \n",
       "3   Technology  View Project      M  18-24         single   \n",
       "4       Sports  View Project      F  25-34        married   \n",
       "\n",
       "                         session_id   device  client_time  location.latitude  \\\n",
       "0  69f62d2ae87640f5a2dde2b2e9229fe6  android   1393632004          40.189788   \n",
       "1  4459d001feb8438eae5f4ec24abcd992      iOS   1393632022          33.844371   \n",
       "2  0db9ed700a184d48a9d04806696e3642      iOS   1393632032          42.446396   \n",
       "3  68195e2372bd4022b17220fc21de9138  android   1393632038          44.624413   \n",
       "4  9508a8385dc94773baba8aa7d1c2aa75      iOS   1393632051          36.747083   \n",
       "\n",
       "  location.city location.state  location.longitude location.zip_code  amount  \n",
       "0         Lyons             CO         -105.355280             80540     NaN  \n",
       "1    Alpharetta             GA          -84.474050             30009     NaN  \n",
       "2      Westford             MA          -71.459405             01886     NaN  \n",
       "3       Saranac             NY          -73.809266             12981     NaN  \n",
       "4         Lampe             MO          -93.458626             65681     NaN  "
      ]
     },
     "execution_count": 2,
     "metadata": {},
     "output_type": "execute_result"
    }
   ],
   "source": [
    "df.head()"
   ]
  },
  {
   "cell_type": "code",
   "execution_count": 3,
   "metadata": {},
   "outputs": [
    {
     "data": {
      "image/png": "[encoded data removed]",
      "text/plain": [
       "<Figure size 720x504 with 1 Axes>"
      ]
     },
     "metadata": {
      "needs_background": "light"
     },
     "output_type": "display_data"
    }
   ],
   "source": [
    "name = df.groupby('category')[['amount']].sum()\n",
    "fig = plt.figure(figsize =(10, 7)) \n",
    "plt.bar(name.index,name['amount'])  \n",
    "plt.show()"
   ]
  },
  {
   "cell_type": "code",
   "execution_count": 4,
   "metadata": {},
   "outputs": [
    {
     "data": {
      "text/plain": [
       "<seaborn.axisgrid.FacetGrid at 0x1dc147422c8>"
      ]
     },
     "execution_count": 4,
     "metadata": {},
     "output_type": "execute_result"
    },
    {
     "data": {
      "image/png": "[encoded data removed]",
      "text/plain": [
       "<Figure size 360x360 with 1 Axes>"
      ]
     },
     "metadata": {
      "needs_background": "light"
     },
     "output_type": "display_data"
    }
   ],
   "source": [
    "sns.catplot(x=\"event_name\", kind=\"count\", data=df)"
   ]
  },
  {
   "cell_type": "markdown",
   "metadata": {},
   "source": [
    "## People tend to buy projects of same category. As bicycle project belongs two \"Environment\" and \"sports\" category we drop the other rows. we are intrested for funding of the project, so we only consider the funded projects"
   ]
  },
  {
   "cell_type": "code",
   "execution_count": 5,
   "metadata": {},
   "outputs": [],
   "source": [
    "df.dropna(inplace=True)"
   ]
  },
  {
   "cell_type": "code",
   "execution_count": 6,
   "metadata": {},
   "outputs": [],
   "source": [
    "ind = df[(df['category']!='Sports')&(df['category']!='Environment')].index\n",
    "df.drop(ind,inplace=True)"
   ]
  },
  {
   "cell_type": "code",
   "execution_count": 7,
   "metadata": {},
   "outputs": [],
   "source": [
    "df.reset_index(drop=True,inplace=True)"
   ]
  },
  {
   "cell_type": "markdown",
   "metadata": {},
   "source": [
    "### PEOPLE WHO HAVE FUNDED SPORTS AND ENVIRONMENT PROJECT"
   ]
  },
  {
   "cell_type": "code",
   "execution_count": 8,
   "metadata": {},
   "outputs": [
    {
     "data": {
      "text/html": [
       "<div>\n",
       "<style scoped>\n",
       "    .dataframe tbody tr th:only-of-type {\n",
       "        vertical-align: middle;\n",
       "    }\n",
       "\n",
       "    .dataframe tbody tr th {\n",
       "        vertical-align: top;\n",
       "    }\n",
       "\n",
       "    .dataframe thead th {\n",
       "        text-align: right;\n",
       "    }\n",
       "</style>\n",
       "<table border=\"1\" class=\"dataframe\">\n",
       "  <thead>\n",
       "    <tr style=\"text-align: right;\">\n",
       "      <th></th>\n",
       "      <th>category</th>\n",
       "      <th>event_name</th>\n",
       "      <th>gender</th>\n",
       "      <th>age</th>\n",
       "      <th>marital_status</th>\n",
       "      <th>session_id</th>\n",
       "      <th>device</th>\n",
       "      <th>client_time</th>\n",
       "      <th>location.latitude</th>\n",
       "      <th>location.city</th>\n",
       "      <th>location.state</th>\n",
       "      <th>location.longitude</th>\n",
       "      <th>location.zip_code</th>\n",
       "      <th>amount</th>\n",
       "    </tr>\n",
       "  </thead>\n",
       "  <tbody>\n",
       "    <tr>\n",
       "      <th>0</th>\n",
       "      <td>Sports</td>\n",
       "      <td>Fund Project</td>\n",
       "      <td>M</td>\n",
       "      <td>18-24</td>\n",
       "      <td>married</td>\n",
       "      <td>69f62d2ae87640f5a2dde2b2e9229fe6</td>\n",
       "      <td>android</td>\n",
       "      <td>1393632200</td>\n",
       "      <td>40.189788</td>\n",
       "      <td>Lyons</td>\n",
       "      <td>CO</td>\n",
       "      <td>-105.355280</td>\n",
       "      <td>80540</td>\n",
       "      <td>31.0</td>\n",
       "    </tr>\n",
       "    <tr>\n",
       "      <th>1</th>\n",
       "      <td>Sports</td>\n",
       "      <td>Fund Project</td>\n",
       "      <td>M</td>\n",
       "      <td>18-24</td>\n",
       "      <td>married</td>\n",
       "      <td>be389e9be0e74398adcef3292ac409ee</td>\n",
       "      <td>android</td>\n",
       "      <td>1393632395</td>\n",
       "      <td>45.408374</td>\n",
       "      <td>Lake Oswego</td>\n",
       "      <td>OR</td>\n",
       "      <td>-122.691388</td>\n",
       "      <td>97034</td>\n",
       "      <td>40.0</td>\n",
       "    </tr>\n",
       "    <tr>\n",
       "      <th>2</th>\n",
       "      <td>Sports</td>\n",
       "      <td>Fund Project</td>\n",
       "      <td>F</td>\n",
       "      <td>18-24</td>\n",
       "      <td>single</td>\n",
       "      <td>71ca342ead4f4da180da4f9b4baaf760</td>\n",
       "      <td>android</td>\n",
       "      <td>1393633118</td>\n",
       "      <td>33.844371</td>\n",
       "      <td>Alpharetta</td>\n",
       "      <td>GA</td>\n",
       "      <td>-84.474050</td>\n",
       "      <td>30009</td>\n",
       "      <td>53.0</td>\n",
       "    </tr>\n",
       "    <tr>\n",
       "      <th>3</th>\n",
       "      <td>Sports</td>\n",
       "      <td>Fund Project</td>\n",
       "      <td>F</td>\n",
       "      <td>18-24</td>\n",
       "      <td>married</td>\n",
       "      <td>a1fdfe0bebed4510a9059bcfb3ba1325</td>\n",
       "      <td>iOS</td>\n",
       "      <td>1393633458</td>\n",
       "      <td>33.794055</td>\n",
       "      <td>Atlanta</td>\n",
       "      <td>GA</td>\n",
       "      <td>-84.377326</td>\n",
       "      <td>30308</td>\n",
       "      <td>48.0</td>\n",
       "    </tr>\n",
       "    <tr>\n",
       "      <th>4</th>\n",
       "      <td>Sports</td>\n",
       "      <td>Fund Project</td>\n",
       "      <td>M</td>\n",
       "      <td>45-54</td>\n",
       "      <td>single</td>\n",
       "      <td>d23a964e8656403b853eb2a24139c408</td>\n",
       "      <td>android</td>\n",
       "      <td>1393633861</td>\n",
       "      <td>39.102704</td>\n",
       "      <td>Kansas City</td>\n",
       "      <td>MO</td>\n",
       "      <td>-94.595033</td>\n",
       "      <td>64105</td>\n",
       "      <td>27.0</td>\n",
       "    </tr>\n",
       "  </tbody>\n",
       "</table>\n",
       "</div>"
      ],
      "text/plain": [
       "  category    event_name gender    age marital_status  \\\n",
       "0   Sports  Fund Project      M  18-24        married   \n",
       "1   Sports  Fund Project      M  18-24        married   \n",
       "2   Sports  Fund Project      F  18-24         single   \n",
       "3   Sports  Fund Project      F  18-24        married   \n",
       "4   Sports  Fund Project      M  45-54         single   \n",
       "\n",
       "                         session_id   device  client_time  location.latitude  \\\n",
       "0  69f62d2ae87640f5a2dde2b2e9229fe6  android   1393632200          40.189788   \n",
       "1  be389e9be0e74398adcef3292ac409ee  android   1393632395          45.408374   \n",
       "2  71ca342ead4f4da180da4f9b4baaf760  android   1393633118          33.844371   \n",
       "3  a1fdfe0bebed4510a9059bcfb3ba1325      iOS   1393633458          33.794055   \n",
       "4  d23a964e8656403b853eb2a24139c408  android   1393633861          39.102704   \n",
       "\n",
       "  location.city location.state  location.longitude location.zip_code  amount  \n",
       "0         Lyons             CO         -105.355280             80540    31.0  \n",
       "1   Lake Oswego             OR         -122.691388             97034    40.0  \n",
       "2    Alpharetta             GA          -84.474050             30009    53.0  \n",
       "3       Atlanta             GA          -84.377326             30308    48.0  \n",
       "4   Kansas City             MO          -94.595033             64105    27.0  "
      ]
     },
     "execution_count": 8,
     "metadata": {},
     "output_type": "execute_result"
    }
   ],
   "source": [
    "df.head()"
   ]
  },
  {
   "cell_type": "code",
   "execution_count": 9,
   "metadata": {},
   "outputs": [
    {
     "data": {
      "image/png": "[encoded data removed]",
      "text/plain": [
       "<Figure size 720x504 with 1 Axes>"
      ]
     },
     "metadata": {
      "needs_background": "light"
     },
     "output_type": "display_data"
    }
   ],
   "source": [
    "name = df.groupby('age')[['amount']].sum()\n",
    "fig = plt.figure(figsize =(10, 7)) \n",
    "plt.title('Total amount Vs Age Group')\n",
    "plt.xlabel(\"Age Group\")\n",
    "plt.ylabel(\"Total amount\")\n",
    "plt.bar(name.index,name['amount'])  \n",
    "plt.show()"
   ]
  },
  {
   "cell_type": "code",
   "execution_count": 14,
   "metadata": {},
   "outputs": [
    {
     "data": {
      "image/png": "[encoded data removed]",
      "text/plain": [
       "<Figure size 720x504 with 1 Axes>"
      ]
     },
     "metadata": {
      "needs_background": "light"
     },
     "output_type": "display_data"
    }
   ],
   "source": [
    "name = df.groupby('age')[['amount']].count()\n",
    "fig = plt.figure(figsize =(10, 7)) \n",
    "plt.title(\"no of people funding Vs Age Group\")\n",
    "plt.xlabel(\"Age Group\")\n",
    "plt.ylabel(\"no of people funding\")        \n",
    "plt.bar(name.index,name['amount'])  \n",
    "plt.show()"
   ]
  },
  {
   "cell_type": "code",
   "execution_count": 10,
   "metadata": {},
   "outputs": [
    {
     "data": {
      "image/png": "[encoded data removed]",
      "text/plain": [
       "<Figure size 720x504 with 1 Axes>"
      ]
     },
     "metadata": {
      "needs_background": "light"
     },
     "output_type": "display_data"
    }
   ],
   "source": [
    "name = df.groupby('marital_status')[['amount']].count()\n",
    "fig = plt.figure(figsize =(10, 7)) \n",
    "plt.title('no of people funding Vs marital_status')\n",
    "plt.xlabel(\"marital_status\")\n",
    "plt.ylabel(\"no of people funding\")\n",
    "plt.bar(name.index,name['amount'])  \n",
    "plt.show()"
   ]
  },
  {
   "cell_type": "code",
   "execution_count": 11,
   "metadata": {},
   "outputs": [
    {
     "data": {
      "text/plain": [
       "<seaborn.axisgrid.FacetGrid at 0x1dc148302c8>"
      ]
     },
     "execution_count": 11,
     "metadata": {},
     "output_type": "execute_result"
    },
    {
     "data": {
      "image/png": "[encoded data removed]",
      "text/plain": [
       "<Figure size 439.375x360 with 1 Axes>"
      ]
     },
     "metadata": {
      "needs_background": "light"
     },
     "output_type": "display_data"
    }
   ],
   "source": [
    "import seaborn as sns\n",
    "sns.catplot(x=\"age\", kind=\"count\",hue=\"marital_status\", data=df)"
   ]
  },
  {
   "cell_type": "markdown",
   "metadata": {},
   "source": [
    "## Age group of 18-24 tend to fund projects \n",
    "## married people also tend to fund more projects than the single ones\n",
    "## From the above plot we can see that we can target the age group of 18-24 who are married"
   ]
  },
  {
   "cell_type": "code",
   "execution_count": 12,
   "metadata": {},
   "outputs": [
    {
     "data": {
      "image/png": "[encoded data removed]",
      "text/plain": [
       "<Figure size 720x504 with 1 Axes>"
      ]
     },
     "metadata": {
      "needs_background": "light"
     },
     "output_type": "display_data"
    }
   ],
   "source": [
    "name = df.groupby('gender')[['amount']].count()\n",
    "fig = plt.figure(figsize =(10, 7))\n",
    "plt.title(\"gender Vs No.of people\")\n",
    "plt.xlabel(\"gender\") \n",
    "plt.ylabel(\"no. of people\")   \n",
    "plt.bar(name.index,name['amount'])  \n",
    "plt.show()"
   ]
  },
  {
   "cell_type": "code",
   "execution_count": 13,
   "metadata": {},
   "outputs": [
    {
     "data": {
      "text/plain": [
       "<seaborn.axisgrid.FacetGrid at 0x1dc14a26108>"
      ]
     },
     "execution_count": 13,
     "metadata": {},
     "output_type": "execute_result"
    },
    {
     "data": {
      "image/png": "[encoded data removed]",
      "text/plain": [
       "<Figure size 404.625x360 with 1 Axes>"
      ]
     },
     "metadata": {
      "needs_background": "light"
     },
     "output_type": "display_data"
    }
   ],
   "source": [
    "sns.catplot(x=\"age\", kind=\"count\",hue=\"gender\", data=df)"
   ]
  },
  {
   "cell_type": "markdown",
   "metadata": {},
   "source": [
    "### there is no significant difference of funding projects between male and female "
   ]
  },
  {
   "cell_type": "code",
   "execution_count": 14,
   "metadata": {},
   "outputs": [
    {
     "data": {
      "image/png": "[encoded data removed]",
      "text/plain": [
       "<Figure size 720x504 with 1 Axes>"
      ]
     },
     "metadata": {
      "needs_background": "light"
     },
     "output_type": "display_data"
    }
   ],
   "source": [
    "name = df.groupby('marital_status')[['amount']].sum()\n",
    "fig = plt.figure(figsize =(10, 7)) \n",
    "plt.title('Marital_status Vs Total amount')\n",
    "plt.xlabel(\"Marital_status\") \n",
    "plt.ylabel(\"Total Amount\")  \n",
    "plt.bar(name.index,name['amount'])  \n",
    "plt.show()"
   ]
  },
  {
   "cell_type": "code",
   "execution_count": 15,
   "metadata": {},
   "outputs": [
    {
     "data": {
      "image/png": "[encoded data removed]",
      "text/plain": [
       "<Figure size 720x504 with 1 Axes>"
      ]
     },
     "metadata": {
      "needs_background": "light"
     },
     "output_type": "display_data"
    }
   ],
   "source": [
    "name = df.groupby('device')[['amount']].count()\n",
    "fig = plt.figure(figsize =(10, 7)) \n",
    "plt.xlabel(\"devices\") \n",
    "plt.ylabel(\"no. of people\") \n",
    "# Horizontal Bar Plot \n",
    "plt.bar(name.index,name['amount'])  \n",
    "plt.show()"
   ]
  },
  {
   "cell_type": "code",
   "execution_count": 20,
   "metadata": {},
   "outputs": [],
   "source": [
    "name = df.groupby('location.state')[['amount']].count()"
   ]
  },
  {
   "cell_type": "code",
   "execution_count": 21,
   "metadata": {},
   "outputs": [
    {
     "data": {
      "text/html": [
       "<div>\n",
       "<style scoped>\n",
       "    .dataframe tbody tr th:only-of-type {\n",
       "        vertical-align: middle;\n",
       "    }\n",
       "\n",
       "    .dataframe tbody tr th {\n",
       "        vertical-align: top;\n",
       "    }\n",
       "\n",
       "    .dataframe thead th {\n",
       "        text-align: right;\n",
       "    }\n",
       "</style>\n",
       "<table border=\"1\" class=\"dataframe\">\n",
       "  <thead>\n",
       "    <tr style=\"text-align: right;\">\n",
       "      <th></th>\n",
       "      <th>amount</th>\n",
       "    </tr>\n",
       "    <tr>\n",
       "      <th>location.state</th>\n",
       "      <th></th>\n",
       "    </tr>\n",
       "  </thead>\n",
       "  <tbody>\n",
       "    <tr>\n",
       "      <th>IN</th>\n",
       "      <td>1548</td>\n",
       "    </tr>\n",
       "    <tr>\n",
       "      <th>GA</th>\n",
       "      <td>1281</td>\n",
       "    </tr>\n",
       "    <tr>\n",
       "      <th>OR</th>\n",
       "      <td>1163</td>\n",
       "    </tr>\n",
       "    <tr>\n",
       "      <th>CO</th>\n",
       "      <td>930</td>\n",
       "    </tr>\n",
       "    <tr>\n",
       "      <th>CA</th>\n",
       "      <td>420</td>\n",
       "    </tr>\n",
       "    <tr>\n",
       "      <th>TX</th>\n",
       "      <td>293</td>\n",
       "    </tr>\n",
       "    <tr>\n",
       "      <th>NY</th>\n",
       "      <td>232</td>\n",
       "    </tr>\n",
       "    <tr>\n",
       "      <th>FL</th>\n",
       "      <td>219</td>\n",
       "    </tr>\n",
       "    <tr>\n",
       "      <th>IL</th>\n",
       "      <td>151</td>\n",
       "    </tr>\n",
       "    <tr>\n",
       "      <th>OH</th>\n",
       "      <td>149</td>\n",
       "    </tr>\n",
       "    <tr>\n",
       "      <th>PA</th>\n",
       "      <td>140</td>\n",
       "    </tr>\n",
       "    <tr>\n",
       "      <th>MI</th>\n",
       "      <td>101</td>\n",
       "    </tr>\n",
       "    <tr>\n",
       "      <th>NC</th>\n",
       "      <td>99</td>\n",
       "    </tr>\n",
       "    <tr>\n",
       "      <th>VA</th>\n",
       "      <td>95</td>\n",
       "    </tr>\n",
       "    <tr>\n",
       "      <th>NJ</th>\n",
       "      <td>91</td>\n",
       "    </tr>\n",
       "    <tr>\n",
       "      <th>MA</th>\n",
       "      <td>91</td>\n",
       "    </tr>\n",
       "    <tr>\n",
       "      <th>TN</th>\n",
       "      <td>86</td>\n",
       "    </tr>\n",
       "    <tr>\n",
       "      <th>AL</th>\n",
       "      <td>80</td>\n",
       "    </tr>\n",
       "    <tr>\n",
       "      <th>WA</th>\n",
       "      <td>80</td>\n",
       "    </tr>\n",
       "    <tr>\n",
       "      <th>KY</th>\n",
       "      <td>80</td>\n",
       "    </tr>\n",
       "    <tr>\n",
       "      <th>MD</th>\n",
       "      <td>78</td>\n",
       "    </tr>\n",
       "    <tr>\n",
       "      <th>MO</th>\n",
       "      <td>67</td>\n",
       "    </tr>\n",
       "    <tr>\n",
       "      <th>WI</th>\n",
       "      <td>65</td>\n",
       "    </tr>\n",
       "    <tr>\n",
       "      <th>AZ</th>\n",
       "      <td>63</td>\n",
       "    </tr>\n",
       "    <tr>\n",
       "      <th>SC</th>\n",
       "      <td>61</td>\n",
       "    </tr>\n",
       "    <tr>\n",
       "      <th>OK</th>\n",
       "      <td>58</td>\n",
       "    </tr>\n",
       "    <tr>\n",
       "      <th>MN</th>\n",
       "      <td>57</td>\n",
       "    </tr>\n",
       "    <tr>\n",
       "      <th>NE</th>\n",
       "      <td>50</td>\n",
       "    </tr>\n",
       "    <tr>\n",
       "      <th>LA</th>\n",
       "      <td>44</td>\n",
       "    </tr>\n",
       "    <tr>\n",
       "      <th>IA</th>\n",
       "      <td>41</td>\n",
       "    </tr>\n",
       "    <tr>\n",
       "      <th>CT</th>\n",
       "      <td>40</td>\n",
       "    </tr>\n",
       "    <tr>\n",
       "      <th>AR</th>\n",
       "      <td>37</td>\n",
       "    </tr>\n",
       "    <tr>\n",
       "      <th>UT</th>\n",
       "      <td>33</td>\n",
       "    </tr>\n",
       "    <tr>\n",
       "      <th>NM</th>\n",
       "      <td>29</td>\n",
       "    </tr>\n",
       "    <tr>\n",
       "      <th>KS</th>\n",
       "      <td>25</td>\n",
       "    </tr>\n",
       "    <tr>\n",
       "      <th>NV</th>\n",
       "      <td>20</td>\n",
       "    </tr>\n",
       "    <tr>\n",
       "      <th>ID</th>\n",
       "      <td>20</td>\n",
       "    </tr>\n",
       "    <tr>\n",
       "      <th>RI</th>\n",
       "      <td>19</td>\n",
       "    </tr>\n",
       "    <tr>\n",
       "      <th>DE</th>\n",
       "      <td>17</td>\n",
       "    </tr>\n",
       "    <tr>\n",
       "      <th>MT</th>\n",
       "      <td>17</td>\n",
       "    </tr>\n",
       "    <tr>\n",
       "      <th>SD</th>\n",
       "      <td>15</td>\n",
       "    </tr>\n",
       "    <tr>\n",
       "      <th>WV</th>\n",
       "      <td>14</td>\n",
       "    </tr>\n",
       "    <tr>\n",
       "      <th>HI</th>\n",
       "      <td>13</td>\n",
       "    </tr>\n",
       "    <tr>\n",
       "      <th>VT</th>\n",
       "      <td>12</td>\n",
       "    </tr>\n",
       "    <tr>\n",
       "      <th>MS</th>\n",
       "      <td>12</td>\n",
       "    </tr>\n",
       "    <tr>\n",
       "      <th>ND</th>\n",
       "      <td>8</td>\n",
       "    </tr>\n",
       "    <tr>\n",
       "      <th>ME</th>\n",
       "      <td>8</td>\n",
       "    </tr>\n",
       "    <tr>\n",
       "      <th>NH</th>\n",
       "      <td>6</td>\n",
       "    </tr>\n",
       "    <tr>\n",
       "      <th>WY</th>\n",
       "      <td>4</td>\n",
       "    </tr>\n",
       "    <tr>\n",
       "      <th>DC</th>\n",
       "      <td>3</td>\n",
       "    </tr>\n",
       "    <tr>\n",
       "      <th>AK</th>\n",
       "      <td>3</td>\n",
       "    </tr>\n",
       "  </tbody>\n",
       "</table>\n",
       "</div>"
      ],
      "text/plain": [
       "                amount\n",
       "location.state        \n",
       "IN                1548\n",
       "GA                1281\n",
       "OR                1163\n",
       "CO                 930\n",
       "CA                 420\n",
       "TX                 293\n",
       "NY                 232\n",
       "FL                 219\n",
       "IL                 151\n",
       "OH                 149\n",
       "PA                 140\n",
       "MI                 101\n",
       "NC                  99\n",
       "VA                  95\n",
       "NJ                  91\n",
       "MA                  91\n",
       "TN                  86\n",
       "AL                  80\n",
       "WA                  80\n",
       "KY                  80\n",
       "MD                  78\n",
       "MO                  67\n",
       "WI                  65\n",
       "AZ                  63\n",
       "SC                  61\n",
       "OK                  58\n",
       "MN                  57\n",
       "NE                  50\n",
       "LA                  44\n",
       "IA                  41\n",
       "CT                  40\n",
       "AR                  37\n",
       "UT                  33\n",
       "NM                  29\n",
       "KS                  25\n",
       "NV                  20\n",
       "ID                  20\n",
       "RI                  19\n",
       "DE                  17\n",
       "MT                  17\n",
       "SD                  15\n",
       "WV                  14\n",
       "HI                  13\n",
       "VT                  12\n",
       "MS                  12\n",
       "ND                   8\n",
       "ME                   8\n",
       "NH                   6\n",
       "WY                   4\n",
       "DC                   3\n",
       "AK                   3"
      ]
     },
     "execution_count": 21,
     "metadata": {},
     "output_type": "execute_result"
    }
   ],
   "source": [
    "name.sort_values('amount', ascending=False)"
   ]
  },
  {
   "cell_type": "code",
   "execution_count": 22,
   "metadata": {},
   "outputs": [
    {
     "data": {
      "image/png": "[encoded data removed]",
      "text/plain": [
       "<Figure size 432x288 with 1 Axes>"
      ]
     },
     "metadata": {
      "needs_background": "light"
     },
     "output_type": "display_data"
    }
   ],
   "source": [
    "df['location.state'].value_counts().head(10).plot.pie(autopct='%1.1f%%',radius=1800,frame=True)\n",
    "plt.axis('equal')\n",
    "plt.show()\n"
   ]
  },
  {
   "cell_type": "markdown",
   "metadata": {},
   "source": [
    "### People from  IN, GA, OR, CO states seems to fund the project than other states "
   ]
  },
  {
   "cell_type": "code",
   "execution_count": 23,
   "metadata": {},
   "outputs": [
    {
     "data": {
      "image/png": "[encoded data removed]",
      "text/plain": [
       "<Figure size 432x288 with 1 Axes>"
      ]
     },
     "metadata": {
      "needs_background": "light"
     },
     "output_type": "display_data"
    }
   ],
   "source": [
    "df['location.city'].value_counts().head(10).plot.pie(autopct='%1.1f%%',radius=1800,frame=True)\n",
    "plt.axis('equal') \n",
    "plt.show()"
   ]
  },
  {
   "cell_type": "markdown",
   "metadata": {},
   "source": [
    "### People from Atlanta,Lake Oswego, Portland, West Linn seems to fund the project than other cities"
   ]
  },
  {
   "cell_type": "markdown",
   "metadata": {},
   "source": [
    "# So the user who are from age group 18-25 , married and from state IN, GA, OR, CO as well as the users from Atlanta,Lake Oswego, Portland, West Linn would be interested in funding the bicycle project"
   ]
  },
  {
   "cell_type": "code",
   "execution_count": null,
   "metadata": {},
   "outputs": [],
   "source": []
  }
 ],
 "metadata": {
  "kernelspec": {
   "display_name": "Python 3",
   "language": "python",
   "name": "python3"
  },
  "language_info": {
   "codemirror_mode": {
    "name": "ipython",
    "version": 3
   },
   "file_extension": ".py",
   "mimetype": "text/x-python",
   "name": "python",
   "nbconvert_exporter": "python",
   "pygments_lexer": "ipython3",
   "version": "3.7.6"
  }
 },
 "nbformat": 4,
 "nbformat_minor": 4
}
